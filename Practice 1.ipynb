{
 "cells": [
  {
   "cell_type": "markdown",
   "id": "9cfe46a6",
   "metadata": {},
   "source": [
    "## Python Exercise \n"
   ]
  },
  {
   "cell_type": "markdown",
   "id": "9ad44a7d",
   "metadata": {},
   "source": [
    "#### NAME: ETHEL ENAM ABLA NYAMADOR\n",
    "\n",
    "#### ASSIGNMENT 1"
   ]
  },
  {
   "cell_type": "markdown",
   "id": "a8edf65d",
   "metadata": {},
   "source": [
    "Write a short program that generates a random number and asks the user to make a guess through user inputs. When a guess is incorrect, the program should tell the user if their guess is greater or less than the generated number. When the guess is correct, the program should inform the user that they guessed correctly. The program should then print out a list of all the guesses made and write the output to a text file. "
   ]
  },
  {
   "cell_type": "code",
   "execution_count": null,
   "id": "8b66023b",
   "metadata": {},
   "outputs": [],
   "source": [
    "#Import the random module\n",
    "import random\n",
    "\n",
    "#Use the random.int() function\n",
    "randnum = random.randint(1,200)\n",
    "\n",
    "#Keep track of number of guesses\n",
    "guesses = 0\n",
    "#Store guessed numbers in an empty list\n",
    "guessed_numbers = []\n",
    "\n",
    "\n",
    "#Description for user\n",
    "print(\"Make a number guess from 1 - 200\")\n",
    "\n",
    "#Input and conditions for the range\n",
    "while True:\n",
    "    try:\n",
    "        guess = int(input(\"Enter your guess: \"))\n",
    "        guesses += 1\n",
    "\n",
    "            \n",
    "#If random guess is wrong\n",
    "        if guess > randnum:\n",
    "            print(\"Your guess is greater than the chosen number. \")\n",
    "        elif guess < randnum:\n",
    "            print(\"Your guess is less than the chosen number. \")\n",
    "            \n",
    "#If random guess is right\n",
    "        else: \n",
    "            print(f\"Kudos! You guessed correctly {guess} \")\n",
    "            guessed_numbers.append(guess) \n",
    "            break\n",
    "            \n",
    "#Add guessed numbers to the list            \n",
    "        guessed_numbers.append(guess)  \n",
    "       \n",
    "    except ValueError:\n",
    "        print(\"Invalid input. Number out of range.\")\n",
    "        \n",
    "#Save guesses to a file\n",
    "with open(\"guesses.txt\", \"w\") as file:\n",
    "    for i, guessed_number in enumerate(guessed_numbers):\n",
    "        file.write(f\"Guess {i + 1}: {guessed_number}\\n\")\n",
    "\n",
    "\n",
    "#Display guesses\n",
    "print(\"Guess list:\")\n",
    "for i, guessed_number in enumerate(guessed_numbers):\n",
    "    print(f\"Guess {i + 1}: {guessed_number}\")\n",
    "        \n",
    "        \n"
   ]
  }
 ],
 "metadata": {
  "kernelspec": {
   "display_name": "Python 3 (ipykernel)",
   "language": "python",
   "name": "python3"
  },
  "language_info": {
   "codemirror_mode": {
    "name": "ipython",
    "version": 3
   },
   "file_extension": ".py",
   "mimetype": "text/x-python",
   "name": "python",
   "nbconvert_exporter": "python",
   "pygments_lexer": "ipython3",
   "version": "3.11.1"
  }
 },
 "nbformat": 4,
 "nbformat_minor": 5
}
