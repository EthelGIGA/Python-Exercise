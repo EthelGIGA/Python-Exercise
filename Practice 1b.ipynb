{
 "cells": [
  {
   "cell_type": "markdown",
   "id": "1d7b7d42",
   "metadata": {},
   "source": [
    "## Python Exercise"
   ]
  },
  {
   "cell_type": "markdown",
   "id": "74f81369",
   "metadata": {},
   "source": [
    "#### NAME: ETHEL ENAM ABLA NYAMADOR\n",
    "\n",
    "#### ASSIGNMENT 2"
   ]
  },
  {
   "cell_type": "markdown",
   "id": "fc1b96e4",
   "metadata": {},
   "source": [
    "Create a list of numbers between 0 to 150 with every succeeding number having an increment of 2. Randomly split the list of numbers into two. Ask users to input a random number. Write a program to loop through each list to find which list the number belongs. If the number is found in the first, eliminate the other list and vice versa. If the number is not in either lists, the program should notify the user accordingly. "
   ]
  },
  {
   "cell_type": "code",
   "execution_count": null,
   "id": "011296e6",
   "metadata": {},
   "outputs": [],
   "source": [
    "#Import random module\n",
    "import random\n",
    "\n",
    "#Create list of numbers\n",
    "number_list = list(range(0, 150, 2))\n",
    "\n",
    "#Shuffle the number list randomly\n",
    "random.shuffle(number_list)\n",
    "\n",
    "# Initialize two empty sublists\n",
    "first_list = []\n",
    "second_list = []\n",
    "\n",
    "# Randomly split the number list into two\n",
    "for number in number_list:\n",
    "    if random.choice([True, False]):\n",
    "        first_list.append(number)\n",
    "    else:\n",
    "        second_list.append(number)\n",
    "        \n",
    "#User input\n",
    "print(\"Chhose a random number between 0 and 150\")\n",
    "input_number = int(input(\"Enter the number: \"))\n",
    "\n",
    "\n",
    "#Find the list the input number belongs to\n",
    "if input_number in first_list:\n",
    "    print(f\"{input_number} is found in the first list.\")\n",
    "    print(\"The second list is eliminated.\")\n",
    "elif input_number in second_list:\n",
    "    print(f\"{input_number} is found in the second list.\")\n",
    "    print(\"The first list is eliminated.\")\n",
    "else:\n",
    "    print(f\"{input_number} is not found in either list.\")\n",
    "    \n",
    "    \n"
   ]
  }
 ],
 "metadata": {
  "kernelspec": {
   "display_name": "Python 3 (ipykernel)",
   "language": "python",
   "name": "python3"
  },
  "language_info": {
   "codemirror_mode": {
    "name": "ipython",
    "version": 3
   },
   "file_extension": ".py",
   "mimetype": "text/x-python",
   "name": "python",
   "nbconvert_exporter": "python",
   "pygments_lexer": "ipython3",
   "version": "3.11.1"
  }
 },
 "nbformat": 4,
 "nbformat_minor": 5
}
